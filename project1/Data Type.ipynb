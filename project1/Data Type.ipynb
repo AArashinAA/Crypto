{
 "cells": [
  {
   "cell_type": "code",
   "execution_count": null,
   "id": "947bf970",
   "metadata": {},
   "outputs": [
    {
     "data": {
      "text/plain": [
       "20"
      ]
     },
     "execution_count": 4,
     "metadata": {},
     "output_type": "execute_result"
    }
   ],
   "source": [
    "0b10\n",
    "0o10\n",
    "0x10 + 4"
   ]
  },
  {
   "cell_type": "code",
   "execution_count": 24,
   "id": "94552524",
   "metadata": {},
   "outputs": [
    {
     "data": {
      "text/plain": [
       "bool"
      ]
     },
     "execution_count": 24,
     "metadata": {},
     "output_type": "execute_result"
    }
   ],
   "source": [
    "type(0x11)\n",
    "type(2==2)"
   ]
  },
  {
   "cell_type": "code",
   "execution_count": 17,
   "id": "000cb1c8",
   "metadata": {},
   "outputs": [
    {
     "data": {
      "text/plain": [
       "0.004"
      ]
     },
     "execution_count": 17,
     "metadata": {},
     "output_type": "execute_result"
    }
   ],
   "source": [
    "4e2\n",
    "4e-3"
   ]
  },
  {
   "cell_type": "code",
   "execution_count": null,
   "id": "8f33f622",
   "metadata": {},
   "outputs": [
    {
     "data": {
      "text/plain": [
       "3.3000000000000003"
      ]
     },
     "execution_count": 14,
     "metadata": {},
     "output_type": "execute_result"
    }
   ],
   "source": [
    "1.1 + 2.2 == 3.3\n",
    "1.1 + 2.2"
   ]
  },
  {
   "cell_type": "code",
   "execution_count": 26,
   "id": "a8658bca",
   "metadata": {},
   "outputs": [
    {
     "data": {
      "text/plain": [
       "' this has \\' and \" on it '"
      ]
     },
     "execution_count": 26,
     "metadata": {},
     "output_type": "execute_result"
    }
   ],
   "source": [
    "\"this has \\' on it\"\n",
    "'this has \\\" on it'\n",
    "''' this has ' and \" on it '''\n"
   ]
  },
  {
   "cell_type": "code",
   "execution_count": 21,
   "id": "0cc54e00",
   "metadata": {},
   "outputs": [
    {
     "name": "stdout",
     "output_type": "stream",
     "text": [
      "dsdsdsds sddfdf fdfdffdsdsad sd s\n",
      "saeid\n",
      "eslami\n",
      "hi\n",
      "\n"
     ]
    }
   ],
   "source": [
    "print('dsdsdsds sd\\\n",
    "dfdf fdfdf\\\n",
    "fdsdsad sd s\\\n",
    "')\n",
    "\n",
    "print('''saeid\n",
    "eslami\n",
    "hi\n",
    "''')"
   ]
  },
  {
   "cell_type": "code",
   "execution_count": null,
   "id": "559a444d",
   "metadata": {},
   "outputs": [
    {
     "name": "stdout",
     "output_type": "stream",
     "text": [
      "saeid\teslami\th\n",
      "M\tee\tsfdfdf\n",
      "Saeid\n",
      "Eslami\n",
      "Saeid\\nEslami\n"
     ]
    }
   ],
   "source": [
    "print('saeid\\teslami\\th')  # ta 8 ta space mire, bastegi be tedad harfaye ghablesh dare\n",
    "print('M\\tee\\tsfdfdf')\n",
    "\n",
    "print('Saeid\\nEslami')\n",
    "print(r'Saeid\\nEslami') #RAW"
   ]
  },
  {
   "cell_type": "code",
   "execution_count": null,
   "id": "dcba8b8c",
   "metadata": {},
   "outputs": [
    {
     "data": {
      "text/plain": [
       "12"
      ]
     },
     "execution_count": 11,
     "metadata": {},
     "output_type": "execute_result"
    }
   ],
   "source": [
    "int('323')\n",
    "float('12.3')\n",
    "str(5)\n",
    "int(12.3)"
   ]
  },
  {
   "cell_type": "code",
   "execution_count": 10,
   "id": "8f456860",
   "metadata": {},
   "outputs": [
    {
     "data": {
      "text/plain": [
       "(10, 10, 10)"
      ]
     },
     "execution_count": 10,
     "metadata": {},
     "output_type": "execute_result"
    }
   ],
   "source": [
    "a = b = c =10\n",
    "a, b, c"
   ]
  },
  {
   "cell_type": "code",
   "execution_count": null,
   "id": "6d5a5111",
   "metadata": {},
   "outputs": [],
   "source": []
  }
 ],
 "metadata": {
  "kernelspec": {
   "display_name": "tmp",
   "language": "python",
   "name": "python3"
  },
  "language_info": {
   "codemirror_mode": {
    "name": "ipython",
    "version": 3
   },
   "file_extension": ".py",
   "mimetype": "text/x-python",
   "name": "python",
   "nbconvert_exporter": "python",
   "pygments_lexer": "ipython3",
   "version": "3.13.5"
  }
 },
 "nbformat": 4,
 "nbformat_minor": 5
}
