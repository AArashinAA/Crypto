{
 "cells": [
  {
   "cell_type": "code",
   "execution_count": null,
   "id": "4709b325",
   "metadata": {},
   "outputs": [],
   "source": [
    "t = (1, 2, 'a') # Packing\n",
    "t = 1, 2, 'a'   # this is tuple "
   ]
  },
  {
   "cell_type": "code",
   "execution_count": null,
   "id": "e0a69e32",
   "metadata": {},
   "outputs": [],
   "source": [
    "type(t)"
   ]
  },
  {
   "cell_type": "code",
   "execution_count": null,
   "id": "99f53504",
   "metadata": {},
   "outputs": [],
   "source": [
    "t"
   ]
  },
  {
   "cell_type": "code",
   "execution_count": null,
   "id": "af5fe58e",
   "metadata": {},
   "outputs": [],
   "source": [
    "a, b, c = t   # Unpacking"
   ]
  },
  {
   "cell_type": "code",
   "execution_count": null,
   "id": "6b9fbc65",
   "metadata": {},
   "outputs": [],
   "source": [
    "a"
   ]
  },
  {
   "cell_type": "code",
   "execution_count": null,
   "id": "bbea7a50",
   "metadata": {},
   "outputs": [],
   "source": [
    "b"
   ]
  },
  {
   "cell_type": "code",
   "execution_count": null,
   "id": "c4abb0c8",
   "metadata": {},
   "outputs": [],
   "source": [
    "c"
   ]
  },
  {
   "cell_type": "code",
   "execution_count": null,
   "id": "28d14f25",
   "metadata": {},
   "outputs": [],
   "source": [
    "t = 1, 2, 3, 4, 5, 6"
   ]
  },
  {
   "cell_type": "code",
   "execution_count": null,
   "id": "077ef54d",
   "metadata": {},
   "outputs": [],
   "source": [
    "a, b, *_, z = t"
   ]
  },
  {
   "cell_type": "code",
   "execution_count": null,
   "id": "f33d6d13",
   "metadata": {},
   "outputs": [],
   "source": [
    "a"
   ]
  },
  {
   "cell_type": "code",
   "execution_count": null,
   "id": "87ef7972",
   "metadata": {},
   "outputs": [],
   "source": [
    "b"
   ]
  },
  {
   "cell_type": "code",
   "execution_count": null,
   "id": "34f1ce88",
   "metadata": {},
   "outputs": [],
   "source": [
    "_   # unwanted value store in _"
   ]
  },
  {
   "cell_type": "code",
   "execution_count": null,
   "id": "2eb1bc5e",
   "metadata": {},
   "outputs": [],
   "source": [
    "z"
   ]
  },
  {
   "cell_type": "code",
   "execution_count": null,
   "id": "9caea75e",
   "metadata": {},
   "outputs": [],
   "source": [
    "dic1 = {'a': 1, 'b': 2}\n",
    "dic2 = {'c': 3, 'd': 4}"
   ]
  },
  {
   "cell_type": "code",
   "execution_count": null,
   "id": "8a93a9f3",
   "metadata": {},
   "outputs": [],
   "source": [
    "a, b = dic1 # OR dic1.values()"
   ]
  },
  {
   "cell_type": "code",
   "execution_count": null,
   "id": "3a276497",
   "metadata": {},
   "outputs": [],
   "source": [
    "a"
   ]
  },
  {
   "cell_type": "code",
   "execution_count": null,
   "id": "b09cf8b4",
   "metadata": {},
   "outputs": [],
   "source": [
    "b"
   ]
  },
  {
   "cell_type": "code",
   "execution_count": 78,
   "id": "32093239",
   "metadata": {},
   "outputs": [],
   "source": [
    "dic3 = {**dic1, **dic2} #unpack dictionary"
   ]
  },
  {
   "cell_type": "code",
   "execution_count": 79,
   "id": "d9a4a5c9",
   "metadata": {},
   "outputs": [
    {
     "data": {
      "text/plain": [
       "{'a': 1, 'b': 2, 'c': 3, 'd': 4}"
      ]
     },
     "execution_count": 79,
     "metadata": {},
     "output_type": "execute_result"
    }
   ],
   "source": [
    "dic3"
   ]
  },
  {
   "cell_type": "code",
   "execution_count": null,
   "id": "e55d99e1",
   "metadata": {},
   "outputs": [],
   "source": [
    "def add(a, b):\n",
    "    return a + b"
   ]
  },
  {
   "cell_type": "code",
   "execution_count": null,
   "id": "f485f824",
   "metadata": {},
   "outputs": [],
   "source": [
    "add(2,3)"
   ]
  },
  {
   "cell_type": "code",
   "execution_count": 68,
   "id": "c170b2d5",
   "metadata": {},
   "outputs": [
    {
     "data": {
      "text/plain": [
       "5"
      ]
     },
     "execution_count": 68,
     "metadata": {},
     "output_type": "execute_result"
    }
   ],
   "source": [
    "l = [2,3]\n",
    "add(*l)     # unpack list"
   ]
  },
  {
   "cell_type": "code",
   "execution_count": null,
   "id": "71c67c6b",
   "metadata": {},
   "outputs": [
    {
     "data": {
      "text/plain": [
       "3"
      ]
     },
     "execution_count": 72,
     "metadata": {},
     "output_type": "execute_result"
    }
   ],
   "source": [
    "add(**dic1) #unpack dic value with same parameters\n"
   ]
  },
  {
   "cell_type": "code",
   "execution_count": 90,
   "id": "35465724",
   "metadata": {},
   "outputs": [
    {
     "data": {
      "text/plain": [
       "'cd'"
      ]
     },
     "execution_count": 90,
     "metadata": {},
     "output_type": "execute_result"
    }
   ],
   "source": [
    "add(*dic2)  #unpack dic key"
   ]
  },
  {
   "cell_type": "code",
   "execution_count": 91,
   "id": "29dc4ec7",
   "metadata": {},
   "outputs": [
    {
     "ename": "TypeError",
     "evalue": "add() got an unexpected keyword argument 'c'",
     "output_type": "error",
     "traceback": [
      "\u001b[31m---------------------------------------------------------------------------\u001b[39m",
      "\u001b[31mTypeError\u001b[39m                                 Traceback (most recent call last)",
      "\u001b[36mCell\u001b[39m\u001b[36m \u001b[39m\u001b[32mIn[91]\u001b[39m\u001b[32m, line 1\u001b[39m\n\u001b[32m----> \u001b[39m\u001b[32m1\u001b[39m add(**dic2)\n",
      "\u001b[31mTypeError\u001b[39m: add() got an unexpected keyword argument 'c'"
     ]
    }
   ],
   "source": [
    "add(**dic2) # Error ! doesnt have same parameters"
   ]
  },
  {
   "cell_type": "code",
   "execution_count": null,
   "id": "88c783cd",
   "metadata": {},
   "outputs": [],
   "source": []
  }
 ],
 "metadata": {
  "kernelspec": {
   "display_name": "tmp",
   "language": "python",
   "name": "python3"
  },
  "language_info": {
   "codemirror_mode": {
    "name": "ipython",
    "version": 3
   },
   "file_extension": ".py",
   "mimetype": "text/x-python",
   "name": "python",
   "nbconvert_exporter": "python",
   "pygments_lexer": "ipython3",
   "version": "3.13.5"
  }
 },
 "nbformat": 4,
 "nbformat_minor": 5
}
