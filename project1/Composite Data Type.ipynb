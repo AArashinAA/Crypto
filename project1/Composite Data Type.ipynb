{
 "cells": [
  {
   "cell_type": "code",
   "execution_count": null,
   "id": "c1ed89f2",
   "metadata": {},
   "outputs": [],
   "source": [
    "# List:\n",
    "l = [1, 1, 2, \"saeid\"]"
   ]
  },
  {
   "cell_type": "code",
   "execution_count": null,
   "id": "704a3906",
   "metadata": {},
   "outputs": [],
   "source": [
    "l[1]=4\n",
    "l"
   ]
  },
  {
   "cell_type": "code",
   "execution_count": null,
   "id": "5f3dc455",
   "metadata": {},
   "outputs": [],
   "source": [
    "# Tuple\n",
    "t = (1, 2, \"saeid\")"
   ]
  },
  {
   "cell_type": "code",
   "execution_count": null,
   "id": "490990eb",
   "metadata": {},
   "outputs": [],
   "source": [
    "t[1] = 4  #'tuple' object does not support item assignment"
   ]
  },
  {
   "cell_type": "code",
   "execution_count": 11,
   "id": "c6c36bee",
   "metadata": {},
   "outputs": [],
   "source": [
    "# Set\n",
    "s ={1, 1, 2, 1, 2, 3, 3, \"saeid\"}"
   ]
  },
  {
   "cell_type": "code",
   "execution_count": 12,
   "id": "011cfdec",
   "metadata": {},
   "outputs": [
    {
     "data": {
      "text/plain": [
       "{1, 2, 3, 'saeid'}"
      ]
     },
     "execution_count": 12,
     "metadata": {},
     "output_type": "execute_result"
    }
   ],
   "source": [
    "s"
   ]
  },
  {
   "cell_type": "code",
   "execution_count": null,
   "id": "b215d1a8",
   "metadata": {},
   "outputs": [],
   "source": [
    "# Dictionary\n",
    "d = {\n",
    "    \"Ali\": 22,\n",
    "    \"Saeid\": 45,\n",
    "    \"Nina\": 37\n",
    "}"
   ]
  },
  {
   "cell_type": "code",
   "execution_count": null,
   "id": "d00a473b",
   "metadata": {},
   "outputs": [],
   "source": [
    "d[\"Nina\"]"
   ]
  },
  {
   "cell_type": "code",
   "execution_count": null,
   "id": "e5d88dba",
   "metadata": {},
   "outputs": [],
   "source": [
    "list(range(5,15,2))"
   ]
  },
  {
   "cell_type": "code",
   "execution_count": null,
   "id": "589ba895",
   "metadata": {},
   "outputs": [],
   "source": [
    "[None] * 4"
   ]
  },
  {
   "cell_type": "code",
   "execution_count": null,
   "id": "0c54c4ca",
   "metadata": {},
   "outputs": [],
   "source": [
    "l = [1,\"saeid\", [2,\"Ali\"]]"
   ]
  },
  {
   "cell_type": "code",
   "execution_count": null,
   "id": "df47577e",
   "metadata": {},
   "outputs": [],
   "source": [
    "l[2][1]"
   ]
  },
  {
   "cell_type": "code",
   "execution_count": null,
   "id": "55d9886a",
   "metadata": {},
   "outputs": [],
   "source": [
    "l[-1]"
   ]
  },
  {
   "cell_type": "code",
   "execution_count": null,
   "id": "2a6dcbca",
   "metadata": {},
   "outputs": [],
   "source": [
    "l[0::2]"
   ]
  },
  {
   "cell_type": "code",
   "execution_count": null,
   "id": "4bfcfc35",
   "metadata": {},
   "outputs": [],
   "source": [
    "l = [1,\"saeid\", [2,\"Ali\"]]\n",
    "l.append(\"Sara\")\n",
    "l.extend(['H1','H2'])\n",
    "l.insert(1, 111111)     # kolan kare dorosti nist be vasat list ezafe kardan"
   ]
  },
  {
   "cell_type": "code",
   "execution_count": null,
   "id": "fe5ed617",
   "metadata": {},
   "outputs": [],
   "source": [
    "l"
   ]
  },
  {
   "cell_type": "code",
   "execution_count": null,
   "id": "1bfd60e5",
   "metadata": {},
   "outputs": [],
   "source": [
    "l.pop() # remove last element"
   ]
  },
  {
   "cell_type": "code",
   "execution_count": null,
   "id": "dc5408f4",
   "metadata": {},
   "outputs": [],
   "source": [
    "l"
   ]
  },
  {
   "cell_type": "code",
   "execution_count": null,
   "id": "b780b691",
   "metadata": {},
   "outputs": [],
   "source": [
    "del l[1:3]"
   ]
  },
  {
   "cell_type": "code",
   "execution_count": null,
   "id": "0e87bfc2",
   "metadata": {},
   "outputs": [],
   "source": [
    "l"
   ]
  },
  {
   "cell_type": "code",
   "execution_count": null,
   "id": "afc742c9",
   "metadata": {},
   "outputs": [],
   "source": [
    "dir(l)"
   ]
  },
  {
   "cell_type": "code",
   "execution_count": null,
   "id": "c2d564b1",
   "metadata": {},
   "outputs": [],
   "source": [
    "t = (1,)    # tuple ba 1 ozv injori tarif mishe\n",
    "type(t)"
   ]
  },
  {
   "cell_type": "code",
   "execution_count": null,
   "id": "94679f26",
   "metadata": {},
   "outputs": [
    {
     "data": {
      "text/plain": [
       "[-5, 0, 1, 8]"
      ]
     },
     "execution_count": 3,
     "metadata": {},
     "output_type": "execute_result"
    }
   ],
   "source": [
    "sorted((8, 0, -5 ,1))   # --> List"
   ]
  },
  {
   "cell_type": "code",
   "execution_count": 4,
   "id": "c96c445e",
   "metadata": {},
   "outputs": [
    {
     "data": {
      "text/plain": [
       "<reversed at 0x79b47429ebc0>"
      ]
     },
     "execution_count": 4,
     "metadata": {},
     "output_type": "execute_result"
    }
   ],
   "source": [
    "reversed((8, 0, -5 ,1)) "
   ]
  },
  {
   "cell_type": "code",
   "execution_count": 5,
   "id": "f94eb97d",
   "metadata": {},
   "outputs": [
    {
     "data": {
      "text/plain": [
       "[1, -5, 0, 8]"
      ]
     },
     "execution_count": 5,
     "metadata": {},
     "output_type": "execute_result"
    }
   ],
   "source": [
    "list(reversed((8, 0, -5 ,1)) )"
   ]
  },
  {
   "cell_type": "code",
   "execution_count": 18,
   "id": "ae68c623",
   "metadata": {},
   "outputs": [],
   "source": [
    "tt = tuple(\"Saeid\")"
   ]
  },
  {
   "cell_type": "code",
   "execution_count": 72,
   "id": "a483420f",
   "metadata": {},
   "outputs": [],
   "source": [
    "ss = dict(saeid=45,country='Iran', heji = tt)"
   ]
  },
  {
   "cell_type": "code",
   "execution_count": 73,
   "id": "836cb71b",
   "metadata": {},
   "outputs": [
    {
     "data": {
      "text/plain": [
       "'Tehran'"
      ]
     },
     "execution_count": 73,
     "metadata": {},
     "output_type": "execute_result"
    }
   ],
   "source": [
    "#ss['city']  # Error\n",
    "ss.get('city', 'Tehran')"
   ]
  },
  {
   "cell_type": "code",
   "execution_count": 74,
   "id": "05a04694",
   "metadata": {},
   "outputs": [
    {
     "data": {
      "text/plain": [
       "dict_items([('saeid', 45), ('country', 'Iran'), ('heji', ('S', 'a', 'e', 'i', 'd'))])"
      ]
     },
     "execution_count": 74,
     "metadata": {},
     "output_type": "execute_result"
    }
   ],
   "source": [
    "ss.keys()\n",
    "ss.values()\n",
    "ss.items()"
   ]
  },
  {
   "cell_type": "code",
   "execution_count": 83,
   "id": "198aac47",
   "metadata": {},
   "outputs": [],
   "source": [
    "ss['city'] = 'Tehran'\n",
    "ss.update(\n",
    "    {'saeid':44,\n",
    "    'status':'Pooooooldar',\n",
    "    'city':'New York!',\n",
    "    (1,2): 2\n",
    "    }\n",
    ")"
   ]
  },
  {
   "cell_type": "code",
   "execution_count": 84,
   "id": "c0887c93",
   "metadata": {},
   "outputs": [
    {
     "data": {
      "text/plain": [
       "{'saeid': 44,\n",
       " 'country': 'Iran',\n",
       " 'heji': ('S', 'a', 'e', 'i', 'd'),\n",
       " 'city': 'New York!',\n",
       " 'status': 'Pooooooldar',\n",
       " (1, 2): 2}"
      ]
     },
     "execution_count": 84,
     "metadata": {},
     "output_type": "execute_result"
    }
   ],
   "source": [
    "ss"
   ]
  },
  {
   "cell_type": "code",
   "execution_count": 85,
   "id": "7d16bf48",
   "metadata": {},
   "outputs": [
    {
     "data": {
      "text/plain": [
       "((1, 2), 2)"
      ]
     },
     "execution_count": 85,
     "metadata": {},
     "output_type": "execute_result"
    }
   ],
   "source": [
    "ss.popitem()    # delete last item"
   ]
  },
  {
   "cell_type": "code",
   "execution_count": 86,
   "id": "bfb450a2",
   "metadata": {},
   "outputs": [
    {
     "data": {
      "text/plain": [
       "{'saeid': 44,\n",
       " 'country': 'Iran',\n",
       " 'heji': ('S', 'a', 'e', 'i', 'd'),\n",
       " 'city': 'New York!',\n",
       " 'status': 'Pooooooldar'}"
      ]
     },
     "execution_count": 86,
     "metadata": {},
     "output_type": "execute_result"
    }
   ],
   "source": [
    "ss"
   ]
  },
  {
   "cell_type": "code",
   "execution_count": 88,
   "id": "bb8019f0",
   "metadata": {},
   "outputs": [
    {
     "data": {
      "text/plain": [
       "'Pooooooldar'"
      ]
     },
     "execution_count": 88,
     "metadata": {},
     "output_type": "execute_result"
    }
   ],
   "source": [
    "ss.setdefault('status', 'Normal')   # az ghabl bashe dast nemizane dar gheyre in default ro mizare"
   ]
  },
  {
   "cell_type": "code",
   "execution_count": 89,
   "id": "6ae5f631",
   "metadata": {},
   "outputs": [
    {
     "data": {
      "text/plain": [
       "{'saeid': 44,\n",
       " 'country': 'Iran',\n",
       " 'heji': ('S', 'a', 'e', 'i', 'd'),\n",
       " 'city': 'New York!',\n",
       " 'status': 'Pooooooldar'}"
      ]
     },
     "execution_count": 89,
     "metadata": {},
     "output_type": "execute_result"
    }
   ],
   "source": [
    "ss"
   ]
  },
  {
   "cell_type": "code",
   "execution_count": null,
   "id": "6be0b00b",
   "metadata": {},
   "outputs": [],
   "source": []
  }
 ],
 "metadata": {
  "kernelspec": {
   "display_name": "tmp",
   "language": "python",
   "name": "python3"
  },
  "language_info": {
   "codemirror_mode": {
    "name": "ipython",
    "version": 3
   },
   "file_extension": ".py",
   "mimetype": "text/x-python",
   "name": "python",
   "nbconvert_exporter": "python",
   "pygments_lexer": "ipython3",
   "version": "3.13.5"
  }
 },
 "nbformat": 4,
 "nbformat_minor": 5
}
