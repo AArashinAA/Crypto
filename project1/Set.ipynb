{
 "cells": [
  {
   "cell_type": "code",
   "execution_count": 1,
   "id": "f3b3c2a7",
   "metadata": {},
   "outputs": [
    {
     "data": {
      "text/plain": [
       "dict"
      ]
     },
     "execution_count": 1,
     "metadata": {},
     "output_type": "execute_result"
    }
   ],
   "source": [
    "type({})"
   ]
  },
  {
   "cell_type": "code",
   "execution_count": 2,
   "id": "7bc12e63",
   "metadata": {},
   "outputs": [
    {
     "data": {
      "text/plain": [
       "set"
      ]
     },
     "execution_count": 2,
     "metadata": {},
     "output_type": "execute_result"
    }
   ],
   "source": [
    "type(set())"
   ]
  },
  {
   "cell_type": "code",
   "execution_count": 5,
   "id": "91c4a97b",
   "metadata": {},
   "outputs": [],
   "source": [
    "msg = 'Find duplicate value by using set, go and Find !'"
   ]
  },
  {
   "cell_type": "code",
   "execution_count": 4,
   "id": "e9a6b2c8",
   "metadata": {},
   "outputs": [
    {
     "data": {
      "text/plain": [
       "['Find', 'duplicate', 'value', 'by', 'using', 'set,', 'go', 'ana', 'Find', '!']"
      ]
     },
     "execution_count": 4,
     "metadata": {},
     "output_type": "execute_result"
    }
   ],
   "source": [
    "msg.split()"
   ]
  },
  {
   "cell_type": "code",
   "execution_count": 6,
   "id": "0e267e40",
   "metadata": {},
   "outputs": [
    {
     "data": {
      "text/plain": [
       "{'!', 'Find', 'and', 'by', 'duplicate', 'go', 'set,', 'using', 'value'}"
      ]
     },
     "execution_count": 6,
     "metadata": {},
     "output_type": "execute_result"
    }
   ],
   "source": [
    "set(msg.split())"
   ]
  },
  {
   "cell_type": "code",
   "execution_count": 7,
   "id": "4155ec25",
   "metadata": {},
   "outputs": [
    {
     "data": {
      "text/plain": [
       "True"
      ]
     },
     "execution_count": 7,
     "metadata": {},
     "output_type": "execute_result"
    }
   ],
   "source": [
    "'Find' in set(msg.split())"
   ]
  },
  {
   "cell_type": "code",
   "execution_count": 8,
   "id": "5c489d46",
   "metadata": {},
   "outputs": [],
   "source": [
    "s = set(range(1000000))"
   ]
  },
  {
   "cell_type": "code",
   "execution_count": 11,
   "id": "bc2122a9",
   "metadata": {},
   "outputs": [],
   "source": [
    "l = list(range(1000000))"
   ]
  },
  {
   "cell_type": "code",
   "execution_count": null,
   "id": "6857590b",
   "metadata": {},
   "outputs": [
    {
     "name": "stdout",
     "output_type": "stream",
     "text": [
      "24.1 ns ± 0.689 ns per loop (mean ± std. dev. of 7 runs, 10,000,000 loops each)\n"
     ]
    }
   ],
   "source": [
    "%%timeit   # performance better than list\n",
    "-1 in s"
   ]
  },
  {
   "cell_type": "code",
   "execution_count": 22,
   "id": "b086a97d",
   "metadata": {},
   "outputs": [
    {
     "name": "stdout",
     "output_type": "stream",
     "text": [
      "8.41 ms ± 198 μs per loop (mean ± std. dev. of 7 runs, 100 loops each)\n"
     ]
    }
   ],
   "source": [
    "%%timeit\n",
    "-1 in l"
   ]
  },
  {
   "cell_type": "code",
   "execution_count": 24,
   "id": "b980f1e2",
   "metadata": {},
   "outputs": [],
   "source": [
    "mySet = {1,2}"
   ]
  },
  {
   "cell_type": "code",
   "execution_count": 25,
   "id": "c6085d3d",
   "metadata": {},
   "outputs": [],
   "source": [
    "mySet.add(0)"
   ]
  },
  {
   "cell_type": "code",
   "execution_count": 26,
   "id": "aa5d115f",
   "metadata": {},
   "outputs": [
    {
     "data": {
      "text/plain": [
       "{0, 1, 2}"
      ]
     },
     "execution_count": 26,
     "metadata": {},
     "output_type": "execute_result"
    }
   ],
   "source": [
    "mySet"
   ]
  },
  {
   "cell_type": "code",
   "execution_count": null,
   "id": "b7794a56",
   "metadata": {},
   "outputs": [],
   "source": [
    "mySet |= {3,4}  # Add "
   ]
  },
  {
   "cell_type": "code",
   "execution_count": 34,
   "id": "1e3bf785",
   "metadata": {},
   "outputs": [
    {
     "data": {
      "text/plain": [
       "{0, 1, 2, 3, 4}"
      ]
     },
     "execution_count": 34,
     "metadata": {},
     "output_type": "execute_result"
    }
   ],
   "source": [
    "mySet"
   ]
  },
  {
   "cell_type": "code",
   "execution_count": null,
   "id": "59e8d8a3",
   "metadata": {},
   "outputs": [
    {
     "ename": "KeyError",
     "evalue": "5",
     "output_type": "error",
     "traceback": [
      "\u001b[31m---------------------------------------------------------------------------\u001b[39m",
      "\u001b[31mKeyError\u001b[39m                                  Traceback (most recent call last)",
      "\u001b[36mCell\u001b[39m\u001b[36m \u001b[39m\u001b[32mIn[37]\u001b[39m\u001b[32m, line 1\u001b[39m\n\u001b[32m----> \u001b[39m\u001b[32m1\u001b[39m mySet.remove(\u001b[32m5\u001b[39m)\n\u001b[32m      2\u001b[39m mySet.discard(\u001b[32m5\u001b[39m)\n",
      "\u001b[31mKeyError\u001b[39m: 5"
     ]
    }
   ],
   "source": [
    "mySet.remove(5) # with error\n"
   ]
  },
  {
   "cell_type": "code",
   "execution_count": 39,
   "id": "8cfb012a",
   "metadata": {},
   "outputs": [],
   "source": [
    "mySet.discard(5)    # without error\n"
   ]
  },
  {
   "cell_type": "code",
   "execution_count": 40,
   "id": "854c8f7d",
   "metadata": {},
   "outputs": [
    {
     "data": {
      "text/plain": [
       "{0, 1, 2, 3}"
      ]
     },
     "execution_count": 40,
     "metadata": {},
     "output_type": "execute_result"
    }
   ],
   "source": [
    "mySet"
   ]
  },
  {
   "cell_type": "code",
   "execution_count": 41,
   "id": "96c9ef1d",
   "metadata": {},
   "outputs": [],
   "source": [
    "s1 = {1,2,3}\n",
    "s2 = {2,3,4}\n",
    "s3 = {3,4,5}"
   ]
  },
  {
   "cell_type": "code",
   "execution_count": 42,
   "id": "e1f340e9",
   "metadata": {},
   "outputs": [
    {
     "data": {
      "text/plain": [
       "{1, 2, 3, 4, 5}"
      ]
     },
     "execution_count": 42,
     "metadata": {},
     "output_type": "execute_result"
    }
   ],
   "source": [
    "s1 | s2 | s3"
   ]
  },
  {
   "cell_type": "code",
   "execution_count": null,
   "id": "e5b7032c",
   "metadata": {},
   "outputs": [
    {
     "data": {
      "text/plain": [
       "{1, 2, 3, 4, 5}"
      ]
     },
     "execution_count": 43,
     "metadata": {},
     "output_type": "execute_result"
    }
   ],
   "source": [
    "s1.union(s2,s3) # = |"
   ]
  },
  {
   "cell_type": "code",
   "execution_count": 44,
   "id": "78997e10",
   "metadata": {},
   "outputs": [
    {
     "data": {
      "text/plain": [
       "{3}"
      ]
     },
     "execution_count": 44,
     "metadata": {},
     "output_type": "execute_result"
    }
   ],
   "source": [
    "s1 & s2 & s3"
   ]
  },
  {
   "cell_type": "code",
   "execution_count": null,
   "id": "821f3a80",
   "metadata": {},
   "outputs": [
    {
     "data": {
      "text/plain": [
       "{3}"
      ]
     },
     "execution_count": 45,
     "metadata": {},
     "output_type": "execute_result"
    }
   ],
   "source": [
    "s1.intersection(s2,s3)  # = &"
   ]
  },
  {
   "cell_type": "code",
   "execution_count": 46,
   "id": "3570eddf",
   "metadata": {},
   "outputs": [
    {
     "data": {
      "text/plain": [
       "{1}"
      ]
     },
     "execution_count": 46,
     "metadata": {},
     "output_type": "execute_result"
    }
   ],
   "source": [
    "s1 - s2 - s3"
   ]
  },
  {
   "cell_type": "code",
   "execution_count": null,
   "id": "5512fed2",
   "metadata": {},
   "outputs": [
    {
     "data": {
      "text/plain": [
       "{1}"
      ]
     },
     "execution_count": 47,
     "metadata": {},
     "output_type": "execute_result"
    }
   ],
   "source": [
    "s1.difference(s2,s3)    # = -"
   ]
  },
  {
   "cell_type": "code",
   "execution_count": 49,
   "id": "499f1adc",
   "metadata": {},
   "outputs": [
    {
     "data": {
      "text/plain": [
       "{1, 3, 5}"
      ]
     },
     "execution_count": 49,
     "metadata": {},
     "output_type": "execute_result"
    }
   ],
   "source": [
    "s1 ^ s2 ^ s3"
   ]
  },
  {
   "cell_type": "code",
   "execution_count": null,
   "id": "961833f0",
   "metadata": {},
   "outputs": [
    {
     "data": {
      "text/plain": [
       "{1, 3, 5}"
      ]
     },
     "execution_count": 51,
     "metadata": {},
     "output_type": "execute_result"
    }
   ],
   "source": [
    "s1.symmetric_difference(s2).symmetric_difference(s3)    # = ^"
   ]
  },
  {
   "cell_type": "code",
   "execution_count": 54,
   "id": "c94cf938",
   "metadata": {},
   "outputs": [
    {
     "data": {
      "text/plain": [
       "frozenset({1, 2, 3})"
      ]
     },
     "execution_count": 54,
     "metadata": {},
     "output_type": "execute_result"
    }
   ],
   "source": [
    "frozenset({1,2,3,2})  # like tuple is Immutable (gheyre ghabele taghir)"
   ]
  },
  {
   "cell_type": "code",
   "execution_count": null,
   "id": "49a6c88c",
   "metadata": {},
   "outputs": [],
   "source": []
  }
 ],
 "metadata": {
  "kernelspec": {
   "display_name": "tmp",
   "language": "python",
   "name": "python3"
  },
  "language_info": {
   "codemirror_mode": {
    "name": "ipython",
    "version": 3
   },
   "file_extension": ".py",
   "mimetype": "text/x-python",
   "name": "python",
   "nbconvert_exporter": "python",
   "pygments_lexer": "ipython3",
   "version": "3.13.5"
  }
 },
 "nbformat": 4,
 "nbformat_minor": 5
}
