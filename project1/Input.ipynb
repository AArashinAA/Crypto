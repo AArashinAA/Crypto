{
 "cells": [
  {
   "cell_type": "code",
   "execution_count": 5,
   "id": "2221dbcb",
   "metadata": {},
   "outputs": [],
   "source": [
    "name = input(\"Please enter your name:\")"
   ]
  },
  {
   "cell_type": "code",
   "execution_count": 6,
   "id": "2683a403",
   "metadata": {},
   "outputs": [
    {
     "data": {
      "text/plain": [
       "'Your name is Saeid'"
      ]
     },
     "execution_count": 6,
     "metadata": {},
     "output_type": "execute_result"
    }
   ],
   "source": [
    "\"Your name is \" + name"
   ]
  },
  {
   "cell_type": "code",
   "execution_count": 10,
   "id": "c357fca5",
   "metadata": {},
   "outputs": [],
   "source": [
    "greeting = \"{intro} Hi {name}, your age is {age}\""
   ]
  },
  {
   "cell_type": "code",
   "execution_count": 11,
   "id": "9ec5da46",
   "metadata": {},
   "outputs": [
    {
     "data": {
      "text/plain": [
       "'!!! Hi Saeid, your age is 45'"
      ]
     },
     "execution_count": 11,
     "metadata": {},
     "output_type": "execute_result"
    }
   ],
   "source": [
    "greeting.format(name=name, age = 45, intro='!!!')"
   ]
  },
  {
   "cell_type": "code",
   "execution_count": null,
   "id": "a2db8da1",
   "metadata": {},
   "outputs": [],
   "source": [
    "age = 45\n",
    "greeting2 = f\"Hi {name}, your agr is {age}\"     # better than format"
   ]
  },
  {
   "cell_type": "code",
   "execution_count": 18,
   "id": "70a47a01",
   "metadata": {},
   "outputs": [
    {
     "data": {
      "text/plain": [
       "'Hi Saeid, your agr is 45'"
      ]
     },
     "execution_count": 18,
     "metadata": {},
     "output_type": "execute_result"
    }
   ],
   "source": [
    "greeting2"
   ]
  },
  {
   "cell_type": "code",
   "execution_count": null,
   "id": "d551a7b0",
   "metadata": {},
   "outputs": [],
   "source": []
  }
 ],
 "metadata": {
  "kernelspec": {
   "display_name": "tmp",
   "language": "python",
   "name": "python3"
  },
  "language_info": {
   "codemirror_mode": {
    "name": "ipython",
    "version": 3
   },
   "file_extension": ".py",
   "mimetype": "text/x-python",
   "name": "python",
   "nbconvert_exporter": "python",
   "pygments_lexer": "ipython3",
   "version": "3.13.5"
  }
 },
 "nbformat": 4,
 "nbformat_minor": 5
}
