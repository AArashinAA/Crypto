{
 "cells": [
  {
   "cell_type": "code",
   "execution_count": null,
   "id": "2efdc713",
   "metadata": {},
   "outputs": [],
   "source": [
    "x = 2\n",
    "dir(x)"
   ]
  },
  {
   "cell_type": "code",
   "execution_count": null,
   "id": "99c9625a",
   "metadata": {},
   "outputs": [],
   "source": [
    "id(x)"
   ]
  },
  {
   "cell_type": "code",
   "execution_count": null,
   "id": "dfa12485",
   "metadata": {},
   "outputs": [],
   "source": [
    "a = 'Saied Eslami'\n",
    "b = 'Saied Eslami'"
   ]
  },
  {
   "cell_type": "code",
   "execution_count": null,
   "id": "2ed90b4d",
   "metadata": {},
   "outputs": [
    {
     "data": {
      "text/plain": [
       "True"
      ]
     },
     "execution_count": 61,
     "metadata": {},
     "output_type": "execute_result"
    }
   ],
   "source": [
    "a == b  #check value"
   ]
  },
  {
   "cell_type": "code",
   "execution_count": null,
   "id": "b7601f9d",
   "metadata": {},
   "outputs": [
    {
     "data": {
      "text/plain": [
       "False"
      ]
     },
     "execution_count": 62,
     "metadata": {},
     "output_type": "execute_result"
    }
   ],
   "source": [
    "a is b  #check memory location"
   ]
  },
  {
   "cell_type": "code",
   "execution_count": null,
   "id": "75094e68",
   "metadata": {},
   "outputs": [
    {
     "data": {
      "text/plain": [
       "True"
      ]
     },
     "execution_count": 64,
     "metadata": {},
     "output_type": "execute_result"
    }
   ],
   "source": [
    "a = 30  #-5 to 256 is True!\n",
    "b = 30  #-5 to 256 is True!\n",
    "a is b"
   ]
  },
  {
   "cell_type": "code",
   "execution_count": null,
   "id": "4329a753",
   "metadata": {},
   "outputs": [],
   "source": []
  }
 ],
 "metadata": {
  "kernelspec": {
   "display_name": "tmp",
   "language": "python",
   "name": "python3"
  },
  "language_info": {
   "codemirror_mode": {
    "name": "ipython",
    "version": 3
   },
   "file_extension": ".py",
   "mimetype": "text/x-python",
   "name": "python",
   "nbconvert_exporter": "python",
   "pygments_lexer": "ipython3",
   "version": "3.13.5"
  }
 },
 "nbformat": 4,
 "nbformat_minor": 5
}
